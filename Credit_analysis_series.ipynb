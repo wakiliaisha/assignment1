{
  "nbformat": 4,
  "nbformat_minor": 0,
  "metadata": {
    "colab": {
      "provenance": [],
      "authorship_tag": "ABX9TyNoLJGSjgTzNCtg6GDDi3Bg",
      "include_colab_link": true
    },
    "kernelspec": {
      "name": "python3",
      "display_name": "Python 3"
    },
    "language_info": {
      "name": "python"
    }
  },
  "cells": [
    {
      "cell_type": "markdown",
      "metadata": {
        "id": "view-in-github",
        "colab_type": "text"
      },
      "source": [
        "<a href=\"https://colab.research.google.com/github/wakiliaisha/assignment1/blob/main/Credit_analysis_series.ipynb\" target=\"_parent\"><img src=\"https://colab.research.google.com/assets/colab-badge.svg\" alt=\"Open In Colab\"/></a>"
      ]
    },
    {
      "cell_type": "markdown",
      "source": [
        "Problem 1"
      ],
      "metadata": {
        "id": "zglD_1p8Az6c"
      }
    },
    {
      "cell_type": "code",
      "source": [
        "import numpy as np\n",
        "import pandas as pd\n",
        "import matplotlib.pyplot as plt\n",
        "import seaborn as sns\n",
        "%matplotlib inline"
      ],
      "metadata": {
        "id": "lTbBQMjeA5ZU"
      },
      "execution_count": null,
      "outputs": []
    },
    {
      "cell_type": "code",
      "source": [
        "application=pd.read_csv('application_train.csv')"
      ],
      "metadata": {
        "colab": {
          "base_uri": "https://localhost:8080/",
          "height": 146
        },
        "id": "NoYXzCPqP-Qu",
        "outputId": "b33fc17e-064e-48ae-ed49-7d3080b5f686"
      },
      "execution_count": null,
      "outputs": [
        {
          "output_type": "error",
          "ename": "NameError",
          "evalue": "name 'pd' is not defined",
          "traceback": [
            "\u001b[0;31m---------------------------------------------------------------------------\u001b[0m",
            "\u001b[0;31mNameError\u001b[0m                                 Traceback (most recent call last)",
            "\u001b[0;32m<ipython-input-8-a8001bb97313>\u001b[0m in \u001b[0;36m<cell line: 1>\u001b[0;34m()\u001b[0m\n\u001b[0;32m----> 1\u001b[0;31m \u001b[0mapplication\u001b[0m\u001b[0;34m=\u001b[0m\u001b[0mpd\u001b[0m\u001b[0;34m.\u001b[0m\u001b[0mread_csv\u001b[0m\u001b[0;34m(\u001b[0m\u001b[0;34m'application_train.csv'\u001b[0m\u001b[0;34m)\u001b[0m\u001b[0;34m\u001b[0m\u001b[0;34m\u001b[0m\u001b[0m\n\u001b[0m",
            "\u001b[0;31mNameError\u001b[0m: name 'pd' is not defined"
          ]
        }
      ]
    },
    {
      "cell_type": "markdown",
      "source": [
        "Problem 2"
      ],
      "metadata": {
        "id": "nunw_yvnBgFC"
      }
    },
    {
      "cell_type": "code",
      "source": [
        "application.head()\n",
        "# .head() is a function that returns the first n rows, it is used to quickly determine if your object has the right type of data"
      ],
      "metadata": {
        "id": "wjEsrRXoBfVF",
        "colab": {
          "base_uri": "https://localhost:8080/",
          "height": 164
        },
        "outputId": "baafe16e-1515-4ecc-b665-84dde056d100"
      },
      "execution_count": 9,
      "outputs": [
        {
          "output_type": "error",
          "ename": "NameError",
          "evalue": "name 'application' is not defined",
          "traceback": [
            "\u001b[0;31m---------------------------------------------------------------------------\u001b[0m",
            "\u001b[0;31mNameError\u001b[0m                                 Traceback (most recent call last)",
            "\u001b[0;32m<ipython-input-9-49a0ac9507bb>\u001b[0m in \u001b[0;36m<cell line: 1>\u001b[0;34m()\u001b[0m\n\u001b[0;32m----> 1\u001b[0;31m \u001b[0mapplication\u001b[0m\u001b[0;34m.\u001b[0m\u001b[0mhead\u001b[0m\u001b[0;34m(\u001b[0m\u001b[0;34m)\u001b[0m\u001b[0;34m\u001b[0m\u001b[0;34m\u001b[0m\u001b[0m\n\u001b[0m\u001b[1;32m      2\u001b[0m \u001b[0;31m# .head() is a function that returns the first n rows, it is used to quickly determine if your object has the right type of data\u001b[0m\u001b[0;34m\u001b[0m\u001b[0;34m\u001b[0m\u001b[0m\n",
            "\u001b[0;31mNameError\u001b[0m: name 'application' is not defined"
          ]
        }
      ]
    },
    {
      "cell_type": "code",
      "source": [
        "application.info()\n",
        "# .info() is a function that is used to print a summary of DataFrame including index dtype, column dtype and memory usage"
      ],
      "metadata": {
        "id": "Yi3klyIPCLfd",
        "colab": {
          "base_uri": "https://localhost:8080/",
          "height": 164
        },
        "outputId": "f733e614-3c7c-418e-a793-5f9e54af7df5"
      },
      "execution_count": 10,
      "outputs": [
        {
          "output_type": "error",
          "ename": "NameError",
          "evalue": "name 'application' is not defined",
          "traceback": [
            "\u001b[0;31m---------------------------------------------------------------------------\u001b[0m",
            "\u001b[0;31mNameError\u001b[0m                                 Traceback (most recent call last)",
            "\u001b[0;32m<ipython-input-10-2a64a5dd85c2>\u001b[0m in \u001b[0;36m<cell line: 1>\u001b[0;34m()\u001b[0m\n\u001b[0;32m----> 1\u001b[0;31m \u001b[0mapplication\u001b[0m\u001b[0;34m.\u001b[0m\u001b[0minfo\u001b[0m\u001b[0;34m(\u001b[0m\u001b[0;34m)\u001b[0m\u001b[0;34m\u001b[0m\u001b[0;34m\u001b[0m\u001b[0m\n\u001b[0m\u001b[1;32m      2\u001b[0m \u001b[0;31m# .info() is a function that is used to print a summary of DataFrame including index dtype, column dtype and memory usage\u001b[0m\u001b[0;34m\u001b[0m\u001b[0;34m\u001b[0m\u001b[0m\n",
            "\u001b[0;31mNameError\u001b[0m: name 'application' is not defined"
          ]
        }
      ]
    },
    {
      "cell_type": "code",
      "source": [
        "application.describe()\n",
        "# .describe() is a function that is used to display a summary of statistics pertaining to the DataFrame columns"
      ],
      "metadata": {
        "id": "yBEdctnXCwDF"
      },
      "execution_count": null,
      "outputs": []
    },
    {
      "cell_type": "code",
      "source": [
        "#Check for missing values\n",
        "total = application.isnull().sum().sort_values(ascending=False)\n",
        "percent = (total/application.isnull().count()*100).sort_values(ascending=False)\n",
        "missing_data = pd.concat([total.percent],axis=1,keys=['Toatl','Percent'])\n",
        "missing_data.head()"
      ],
      "metadata": {
        "id": "8SkbS5_mDl6z"
      },
      "execution_count": null,
      "outputs": []
    },
    {
      "cell_type": "code",
      "source": [
        "# Graph the number of data for each class\n",
        "import matplotlib.pyplot as plt\n",
        "import numpy as np\n",
        "\n",
        "\n",
        "temp = application[\"TARGET\"].value_counts()\n",
        "y_pos = np.arrange(len(temp.values))\n",
        "plt.figure(figsize = (6,6))\n",
        "plt.bar(y_pos, temp.values)\n",
        "plt.xticks(y_pos, temp.index)\n",
        "plt.show()"
      ],
      "metadata": {
        "id": "THORy-BJHwie"
      },
      "execution_count": null,
      "outputs": []
    },
    {
      "cell_type": "markdown",
      "source": [
        "Problem 3"
      ],
      "metadata": {
        "id": "m3iOWyr0RVQc"
      }
    },
    {
      "cell_type": "markdown",
      "source": [
        "1. what is the gender ratio of loan applications and that of successful repayment\n",
        "2. what are the ages of clients and how does it relate to repayment on time\n",
        "3. which type of loan did the client take?\n",
        "4. what is the education level of the client?\n",
        "5. does the client own a car?\n",
        "\n"
      ],
      "metadata": {
        "id": "WWwaRlnHRhfp"
      }
    },
    {
      "cell_type": "markdown",
      "source": [
        "Problem 4"
      ],
      "metadata": {
        "id": "ylbMYJREShQt"
      }
    },
    {
      "cell_type": "code",
      "source": [
        "#What are the ages of clients and how does it relate to repayment on time\n",
        "plt.hist(application['DAYS_BIRTH'] / 365, edgecolor = 'k', bins = 25, color='green')\n",
        "plt.title('Age of client')\n",
        "plt.xlabel('Age (years)')\n",
        "plt.ylabel('Count')\n",
        "plt.show()"
      ],
      "metadata": {
        "id": "PH6DZqczSf7-"
      },
      "execution_count": null,
      "outputs": []
    },
    {
      "cell_type": "code",
      "source": [
        "age_paid = application.loc[application['TARGET'] == 0, 'DAYS_BIRTH'] / -365\n",
        "age_unpaid = application.loc[application['TARGET'] == 1, 'DAYS_BIRTH'] / -365\n",
        "\n",
        "\n",
        "sns.displot(age_paid,color='blue',alpha=0.1,kde= True)\n",
        "plt.xlabel('Age (years)')\n",
        "plt.title('Ages of clients who repaid')\n",
        "\n",
        "\n",
        "sns.displot(age_unpaid,kde= True,color='red',fill=False)\n",
        "plt.xlabel('Age (years)')\n",
        "plt.title('Ages of clients who repaid')\n",
        "\n",
        "\n",
        "plt.show()"
      ],
      "metadata": {
        "id": "XVd5980STqDE"
      },
      "execution_count": null,
      "outputs": []
    },
    {
      "cell_type": "markdown",
      "source": [
        "The age range of clients is between 20 to 70 with 30 to 45 having the highest numbers. with regards to repayment, younger clients especially those between 25 and 40 have a higher chance of not returning the loan whereas the older the client is, the mor likely he is to repay the loan"
      ],
      "metadata": {
        "id": "7aYqNiUIVuJP"
      }
    }
  ]
}