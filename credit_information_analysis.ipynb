{
  "nbformat": 4,
  "nbformat_minor": 0,
  "metadata": {
    "colab": {
      "provenance": [],
      "authorship_tag": "ABX9TyMJtP3p916zNahAIKEelKZ2",
      "include_colab_link": true
    },
    "kernelspec": {
      "name": "python3",
      "display_name": "Python 3"
    },
    "language_info": {
      "name": "python"
    }
  },
  "cells": [
    {
      "cell_type": "markdown",
      "metadata": {
        "id": "view-in-github",
        "colab_type": "text"
      },
      "source": [
        "<a href=\"https://colab.research.google.com/github/wakiliaisha/assignment1/blob/main/credit_information_analysis.ipynb\" target=\"_parent\"><img src=\"https://colab.research.google.com/assets/colab-badge.svg\" alt=\"Open In Colab\"/></a>"
      ]
    },
    {
      "cell_type": "markdown",
      "source": [
        "Problem 1 Understanding the content of the competition"
      ],
      "metadata": {
        "id": "M0UWVOJzcfA9"
      }
    },
    {
      "cell_type": "markdown",
      "source": [
        "1. What kind of company is Home Credit?\n",
        "Home Credit is an international non-bank financial institution that focuses on installment lending services\n",
        "to people with little or no credit history.\n",
        "\n",
        "2. What is expected in this competition?\n",
        "participants are expected to create a machine learning model that will predict thee ability of a client to repay his/her loan.\n",
        "\n",
        "3. What are the benefits companies can gain by predicting this?\n",
        "- The predication will ensure that clients capable of repayment are not rejected\n",
        "- The company will make more profit since more loans will be given with a principal, maturity, and repayment calendar that will empower their clients to be successful."
      ],
      "metadata": {
        "id": "Ts2Mzq45mnvS"
      }
    },
    {
      "cell_type": "markdown",
      "source": [
        "Problem 2"
      ],
      "metadata": {
        "id": "AOk5VfPNcpyE"
      }
    },
    {
      "cell_type": "code",
      "source": [
        "# IMPORTING  ALL NEEDED MODULES AND DISOLAYING THE FIRST FIVE ROWS OF THE DATASET\n",
        "import pandas as pd\n",
        "import numpy as np\n",
        "import matplotlib\n",
        "import matplotlib.pyplot as plt\n",
        "import seaborn as sns\n",
        "%matplotlib inline\n",
        "application_train = pd.read_csv(\"application_train.csv\")\n",
        "application_train.head()"
      ],
      "metadata": {
        "colab": {
          "base_uri": "https://localhost:8080/",
          "height": 351
        },
        "id": "fNEqQfBDnwYK",
        "outputId": "c582b7e3-3b1c-44b4-be54-5547c5aecac0"
      },
      "execution_count": 1,
      "outputs": [
        {
          "output_type": "error",
          "ename": "FileNotFoundError",
          "evalue": "[Errno 2] No such file or directory: 'application_train.csv'",
          "traceback": [
            "\u001b[0;31m---------------------------------------------------------------------------\u001b[0m",
            "\u001b[0;31mFileNotFoundError\u001b[0m                         Traceback (most recent call last)",
            "\u001b[0;32m<ipython-input-1-1dc7b3e28340>\u001b[0m in \u001b[0;36m<cell line: 8>\u001b[0;34m()\u001b[0m\n\u001b[1;32m      6\u001b[0m \u001b[0;32mimport\u001b[0m \u001b[0mseaborn\u001b[0m \u001b[0;32mas\u001b[0m \u001b[0msns\u001b[0m\u001b[0;34m\u001b[0m\u001b[0;34m\u001b[0m\u001b[0m\n\u001b[1;32m      7\u001b[0m \u001b[0mget_ipython\u001b[0m\u001b[0;34m(\u001b[0m\u001b[0;34m)\u001b[0m\u001b[0;34m.\u001b[0m\u001b[0mrun_line_magic\u001b[0m\u001b[0;34m(\u001b[0m\u001b[0;34m'matplotlib'\u001b[0m\u001b[0;34m,\u001b[0m \u001b[0;34m'inline'\u001b[0m\u001b[0;34m)\u001b[0m\u001b[0;34m\u001b[0m\u001b[0;34m\u001b[0m\u001b[0m\n\u001b[0;32m----> 8\u001b[0;31m \u001b[0mapplication_train\u001b[0m \u001b[0;34m=\u001b[0m \u001b[0mpd\u001b[0m\u001b[0;34m.\u001b[0m\u001b[0mread_csv\u001b[0m\u001b[0;34m(\u001b[0m\u001b[0;34m\"application_train.csv\"\u001b[0m\u001b[0;34m)\u001b[0m\u001b[0;34m\u001b[0m\u001b[0;34m\u001b[0m\u001b[0m\n\u001b[0m\u001b[1;32m      9\u001b[0m \u001b[0mapplication_train\u001b[0m\u001b[0;34m.\u001b[0m\u001b[0mhead\u001b[0m\u001b[0;34m(\u001b[0m\u001b[0;34m)\u001b[0m\u001b[0;34m\u001b[0m\u001b[0;34m\u001b[0m\u001b[0m\n",
            "\u001b[0;32m/usr/local/lib/python3.10/dist-packages/pandas/io/parsers/readers.py\u001b[0m in \u001b[0;36mread_csv\u001b[0;34m(filepath_or_buffer, sep, delimiter, header, names, index_col, usecols, dtype, engine, converters, true_values, false_values, skipinitialspace, skiprows, skipfooter, nrows, na_values, keep_default_na, na_filter, verbose, skip_blank_lines, parse_dates, infer_datetime_format, keep_date_col, date_parser, date_format, dayfirst, cache_dates, iterator, chunksize, compression, thousands, decimal, lineterminator, quotechar, quoting, doublequote, escapechar, comment, encoding, encoding_errors, dialect, on_bad_lines, delim_whitespace, low_memory, memory_map, float_precision, storage_options, dtype_backend)\u001b[0m\n\u001b[1;32m    910\u001b[0m     \u001b[0mkwds\u001b[0m\u001b[0;34m.\u001b[0m\u001b[0mupdate\u001b[0m\u001b[0;34m(\u001b[0m\u001b[0mkwds_defaults\u001b[0m\u001b[0;34m)\u001b[0m\u001b[0;34m\u001b[0m\u001b[0;34m\u001b[0m\u001b[0m\n\u001b[1;32m    911\u001b[0m \u001b[0;34m\u001b[0m\u001b[0m\n\u001b[0;32m--> 912\u001b[0;31m     \u001b[0;32mreturn\u001b[0m \u001b[0m_read\u001b[0m\u001b[0;34m(\u001b[0m\u001b[0mfilepath_or_buffer\u001b[0m\u001b[0;34m,\u001b[0m \u001b[0mkwds\u001b[0m\u001b[0;34m)\u001b[0m\u001b[0;34m\u001b[0m\u001b[0;34m\u001b[0m\u001b[0m\n\u001b[0m\u001b[1;32m    913\u001b[0m \u001b[0;34m\u001b[0m\u001b[0m\n\u001b[1;32m    914\u001b[0m \u001b[0;34m\u001b[0m\u001b[0m\n",
            "\u001b[0;32m/usr/local/lib/python3.10/dist-packages/pandas/io/parsers/readers.py\u001b[0m in \u001b[0;36m_read\u001b[0;34m(filepath_or_buffer, kwds)\u001b[0m\n\u001b[1;32m    575\u001b[0m \u001b[0;34m\u001b[0m\u001b[0m\n\u001b[1;32m    576\u001b[0m     \u001b[0;31m# Create the parser.\u001b[0m\u001b[0;34m\u001b[0m\u001b[0;34m\u001b[0m\u001b[0m\n\u001b[0;32m--> 577\u001b[0;31m     \u001b[0mparser\u001b[0m \u001b[0;34m=\u001b[0m \u001b[0mTextFileReader\u001b[0m\u001b[0;34m(\u001b[0m\u001b[0mfilepath_or_buffer\u001b[0m\u001b[0;34m,\u001b[0m \u001b[0;34m**\u001b[0m\u001b[0mkwds\u001b[0m\u001b[0;34m)\u001b[0m\u001b[0;34m\u001b[0m\u001b[0;34m\u001b[0m\u001b[0m\n\u001b[0m\u001b[1;32m    578\u001b[0m \u001b[0;34m\u001b[0m\u001b[0m\n\u001b[1;32m    579\u001b[0m     \u001b[0;32mif\u001b[0m \u001b[0mchunksize\u001b[0m \u001b[0;32mor\u001b[0m \u001b[0miterator\u001b[0m\u001b[0;34m:\u001b[0m\u001b[0;34m\u001b[0m\u001b[0;34m\u001b[0m\u001b[0m\n",
            "\u001b[0;32m/usr/local/lib/python3.10/dist-packages/pandas/io/parsers/readers.py\u001b[0m in \u001b[0;36m__init__\u001b[0;34m(self, f, engine, **kwds)\u001b[0m\n\u001b[1;32m   1405\u001b[0m \u001b[0;34m\u001b[0m\u001b[0m\n\u001b[1;32m   1406\u001b[0m         \u001b[0mself\u001b[0m\u001b[0;34m.\u001b[0m\u001b[0mhandles\u001b[0m\u001b[0;34m:\u001b[0m \u001b[0mIOHandles\u001b[0m \u001b[0;34m|\u001b[0m \u001b[0;32mNone\u001b[0m \u001b[0;34m=\u001b[0m \u001b[0;32mNone\u001b[0m\u001b[0;34m\u001b[0m\u001b[0;34m\u001b[0m\u001b[0m\n\u001b[0;32m-> 1407\u001b[0;31m         \u001b[0mself\u001b[0m\u001b[0;34m.\u001b[0m\u001b[0m_engine\u001b[0m \u001b[0;34m=\u001b[0m \u001b[0mself\u001b[0m\u001b[0;34m.\u001b[0m\u001b[0m_make_engine\u001b[0m\u001b[0;34m(\u001b[0m\u001b[0mf\u001b[0m\u001b[0;34m,\u001b[0m \u001b[0mself\u001b[0m\u001b[0;34m.\u001b[0m\u001b[0mengine\u001b[0m\u001b[0;34m)\u001b[0m\u001b[0;34m\u001b[0m\u001b[0;34m\u001b[0m\u001b[0m\n\u001b[0m\u001b[1;32m   1408\u001b[0m \u001b[0;34m\u001b[0m\u001b[0m\n\u001b[1;32m   1409\u001b[0m     \u001b[0;32mdef\u001b[0m \u001b[0mclose\u001b[0m\u001b[0;34m(\u001b[0m\u001b[0mself\u001b[0m\u001b[0;34m)\u001b[0m \u001b[0;34m->\u001b[0m \u001b[0;32mNone\u001b[0m\u001b[0;34m:\u001b[0m\u001b[0;34m\u001b[0m\u001b[0;34m\u001b[0m\u001b[0m\n",
            "\u001b[0;32m/usr/local/lib/python3.10/dist-packages/pandas/io/parsers/readers.py\u001b[0m in \u001b[0;36m_make_engine\u001b[0;34m(self, f, engine)\u001b[0m\n\u001b[1;32m   1659\u001b[0m                 \u001b[0;32mif\u001b[0m \u001b[0;34m\"b\"\u001b[0m \u001b[0;32mnot\u001b[0m \u001b[0;32min\u001b[0m \u001b[0mmode\u001b[0m\u001b[0;34m:\u001b[0m\u001b[0;34m\u001b[0m\u001b[0;34m\u001b[0m\u001b[0m\n\u001b[1;32m   1660\u001b[0m                     \u001b[0mmode\u001b[0m \u001b[0;34m+=\u001b[0m \u001b[0;34m\"b\"\u001b[0m\u001b[0;34m\u001b[0m\u001b[0;34m\u001b[0m\u001b[0m\n\u001b[0;32m-> 1661\u001b[0;31m             self.handles = get_handle(\n\u001b[0m\u001b[1;32m   1662\u001b[0m                 \u001b[0mf\u001b[0m\u001b[0;34m,\u001b[0m\u001b[0;34m\u001b[0m\u001b[0;34m\u001b[0m\u001b[0m\n\u001b[1;32m   1663\u001b[0m                 \u001b[0mmode\u001b[0m\u001b[0;34m,\u001b[0m\u001b[0;34m\u001b[0m\u001b[0;34m\u001b[0m\u001b[0m\n",
            "\u001b[0;32m/usr/local/lib/python3.10/dist-packages/pandas/io/common.py\u001b[0m in \u001b[0;36mget_handle\u001b[0;34m(path_or_buf, mode, encoding, compression, memory_map, is_text, errors, storage_options)\u001b[0m\n\u001b[1;32m    857\u001b[0m         \u001b[0;32mif\u001b[0m \u001b[0mioargs\u001b[0m\u001b[0;34m.\u001b[0m\u001b[0mencoding\u001b[0m \u001b[0;32mand\u001b[0m \u001b[0;34m\"b\"\u001b[0m \u001b[0;32mnot\u001b[0m \u001b[0;32min\u001b[0m \u001b[0mioargs\u001b[0m\u001b[0;34m.\u001b[0m\u001b[0mmode\u001b[0m\u001b[0;34m:\u001b[0m\u001b[0;34m\u001b[0m\u001b[0;34m\u001b[0m\u001b[0m\n\u001b[1;32m    858\u001b[0m             \u001b[0;31m# Encoding\u001b[0m\u001b[0;34m\u001b[0m\u001b[0;34m\u001b[0m\u001b[0m\n\u001b[0;32m--> 859\u001b[0;31m             handle = open(\n\u001b[0m\u001b[1;32m    860\u001b[0m                 \u001b[0mhandle\u001b[0m\u001b[0;34m,\u001b[0m\u001b[0;34m\u001b[0m\u001b[0;34m\u001b[0m\u001b[0m\n\u001b[1;32m    861\u001b[0m                 \u001b[0mioargs\u001b[0m\u001b[0;34m.\u001b[0m\u001b[0mmode\u001b[0m\u001b[0;34m,\u001b[0m\u001b[0;34m\u001b[0m\u001b[0;34m\u001b[0m\u001b[0m\n",
            "\u001b[0;31mFileNotFoundError\u001b[0m: [Errno 2] No such file or directory: 'application_train.csv'"
          ]
        }
      ]
    },
    {
      "cell_type": "code",
      "source": [
        "print(\"application_train -  rows:\",application_train.shape[0],\" columns:\", application_train.shape[1])\n",
        "# DISPLAY THE NUMBER OF ROWS AND COLUMN IN THE DATASET"
      ],
      "metadata": {
        "id": "KlH5oNNooQxg"
      },
      "execution_count": null,
      "outputs": []
    },
    {
      "cell_type": "code",
      "source": [
        "application_train.columns.values\n",
        "# LIST ALL THE COLUMN VALUES"
      ],
      "metadata": {
        "id": "B7EUT5cRf6zD"
      },
      "execution_count": null,
      "outputs": []
    },
    {
      "cell_type": "code",
      "source": [
        "application_train.info()\n",
        "# GIVE THE BASIC STRUCTURE OF THE DATASET LIKE THE NUMBER OF COLUMN ENTRIES, NUMBER OF FLOAT,INTEGER AND STRING DATA TYPES ETC"
      ],
      "metadata": {
        "id": "hbwb08D1hH-R"
      },
      "execution_count": null,
      "outputs": []
    },
    {
      "cell_type": "code",
      "source": [
        "application_train.describe()\n",
        "# GIVE THE MEAN, STANDARD DEVIATION, INTERQUATILE RANGE FOR EACH COLUMN"
      ],
      "metadata": {
        "id": "ooTnHho8heaW"
      },
      "execution_count": null,
      "outputs": []
    },
    {
      "cell_type": "markdown",
      "source": [
        "checking missing values"
      ],
      "metadata": {
        "id": "iofys1qBhnrC"
      }
    },
    {
      "cell_type": "code",
      "source": [
        "application_train.isnull().any()\n",
        "# DISPLAY MISSING VALUES IN THE FORM OF BOOLEAN"
      ],
      "metadata": {
        "id": "-jkWmeqohu4a"
      },
      "execution_count": null,
      "outputs": []
    },
    {
      "cell_type": "code",
      "source": [
        "application_train.isnull().sum()\n",
        "# THE SUM OF MISSING VALUES FOR EACH COLUMN"
      ],
      "metadata": {
        "id": "lCQA07ysic3P"
      },
      "execution_count": null,
      "outputs": []
    },
    {
      "cell_type": "code",
      "source": [
        "application_train.isnull().any().value_counts()"
      ],
      "metadata": {
        "id": "mYa19xtKioX0"
      },
      "execution_count": null,
      "outputs": []
    },
    {
      "cell_type": "code",
      "source": [
        "def missing_data(data):\n",
        "    total = data.isnull().sum().sort_values(ascending = False)\n",
        "    percent = (data.isnull().sum()/data.isnull().count()*100).sort_values(ascending = False)\n",
        "    return pd.concat([total, percent], axis=1, keys=['Total', 'Percent'])\n",
        "missing_data(application_train)#.head(10)"
      ],
      "metadata": {
        "id": "WzicNT9Hivj6"
      },
      "execution_count": null,
      "outputs": []
    },
    {
      "cell_type": "markdown",
      "source": [
        "Draw a graph showing the percentage of classes"
      ],
      "metadata": {
        "id": "a28Ebfiqjajz"
      }
    },
    {
      "cell_type": "code",
      "source": [
        "from matplotlib import pyplot as plt"
      ],
      "metadata": {
        "id": "KlWsyFojjbuS"
      },
      "execution_count": null,
      "outputs": []
    },
    {
      "cell_type": "code",
      "source": [
        "missing_data(application_train).hist()"
      ],
      "metadata": {
        "id": "l3JC1GJGjk_Y"
      },
      "execution_count": null,
      "outputs": []
    },
    {
      "cell_type": "markdown",
      "source": [
        "Problem 3 Defining issues"
      ],
      "metadata": {
        "id": "hBfFprHNj8R9"
      }
    },
    {
      "cell_type": "markdown",
      "source": [
        "1 number of childern\n",
        "2 customer loan status base on family status\n",
        "3 The relationship between the features and the target\n",
        "4 The income state of customers with defulted loans\n",
        "5 What is the source of income for customers with paid loan\n",
        "6 what is ghe type of oganization where client work?\n",
        "7 what is the family size of marriage customers\n",
        "8 family status of single customers\n",
        "9 what contact type can repay loan\n",
        "10 what gender have the highest rate of defaulters\n",
        "11 How distributed is the target in the dataset\n",
        "12what is the housing status of client?\n",
        "13 how many single client with paid loan\n",
        "14 how many single client with Defaulted loan?\n",
        "15 How many car owners can pay their loans\n",
        "16 customer load status base on number of children"
      ],
      "metadata": {
        "id": "t8TEDrKAj0B9"
      }
    },
    {
      "cell_type": "markdown",
      "source": [
        "Problem 4"
      ],
      "metadata": {
        "id": "V3X5UAwHkFT3"
      }
    },
    {
      "cell_type": "code",
      "source": [
        "sns.countplot(x='CNT_CHILDREN', data=application_train, palette='hls')\n",
        "plt.show()"
      ],
      "metadata": {
        "id": "B8zVFnHXkKIn"
      },
      "execution_count": null,
      "outputs": []
    },
    {
      "cell_type": "code",
      "source": [
        "sns.catplot(data=application_train,x='NAME_FAMILY_STATUS',hue='TARGET',kind='count');\n",
        "plt.xticks(rotation=90);"
      ],
      "metadata": {
        "id": "0P7vGLQ2kTUa"
      },
      "execution_count": null,
      "outputs": []
    },
    {
      "cell_type": "code",
      "source": [
        "# what is the relationship between features and target?\n",
        "plt.figure(figsize=(20,1))\n",
        "sns.heatmap(application_train.corr().sort_values(by = ['TARGET'], ascending = False).head(1), cmap='coolwarm', annot=False, annot_kws={'size': 8}, fmt = '.2f')\n",
        "\n",
        "plt.title('Correlation of Numerical Features with the Target', weight = 'bold', fontsize = 18)\n",
        "plt.xticks(weight='bold')\n",
        "plt.yticks(weight='bold', color='dodgerblue', rotation=0)\n",
        "\n",
        "plt.show()"
      ],
      "metadata": {
        "id": "E19PnPTGkZav"
      },
      "execution_count": null,
      "outputs": []
    },
    {
      "cell_type": "code",
      "source": [
        "# what is the income stream of customers with repaid loan?\n",
        "unpaid = application_train[application_train.TARGET==1]\n",
        "sns.catplot(data=unpaid,x='NAME_INCOME_TYPE',kind='count');\n",
        "plt.xticks(rotation=90);\n",
        "plt.title('Income Stream of DEFAULTED LOANS');"
      ],
      "metadata": {
        "id": "5_h7y-x5kepp"
      },
      "execution_count": null,
      "outputs": []
    },
    {
      "cell_type": "code",
      "source": [
        "# what is the income stream of custimers with defulted loan?\n",
        "paid = application_train[application_train.TARGET==0]\n",
        "sns.catplot(data=paid,x='NAME_INCOME_TYPE',kind='count');\n",
        "plt.xticks(rotation=90);\n",
        "plt.title('Income Stream of paid LOANS');"
      ],
      "metadata": {
        "id": "e3QE6Flfkt_L"
      },
      "execution_count": null,
      "outputs": []
    },
    {
      "cell_type": "code",
      "source": [
        "fig,ax = plt.subplots(figsize=(15,5))\n",
        "sns.countplot(data=unpaid,x='ORGANIZATION_TYPE',ax=ax);\n",
        "plt.xticks(rotation=90)\n",
        "plt.title('Organization where client work')\n",
        "plt.show()"
      ],
      "metadata": {
        "id": "BYYogvTokzew"
      },
      "execution_count": null,
      "outputs": []
    },
    {
      "cell_type": "code",
      "source": [
        "# family size of marriage customers\n",
        "application_train[['CNT_CHILDREN','NAME_FAMILY_STATUS',\n",
        "          'CNT_FAM_MEMBERS']][application_train.NAME_FAMILY_STATUS=='Married'].head()"
      ],
      "metadata": {
        "id": "1ZJfdeX9k11D"
      },
      "execution_count": null,
      "outputs": []
    },
    {
      "cell_type": "code",
      "source": [
        "# family size of single customers\n",
        "application_train[['CNT_CHILDREN','NAME_FAMILY_STATUS',\n",
        "          'CNT_FAM_MEMBERS']][application_train.NAME_FAMILY_STATUS!='Married'].tail()"
      ],
      "metadata": {
        "id": "Jw-rAiBzk6jX"
      },
      "execution_count": null,
      "outputs": []
    },
    {
      "cell_type": "code",
      "source": [
        "# what contact type that can pay loan\n",
        "sns.catplot(data=application_train,x='NAME_CONTRACT_TYPE',hue='TARGET',kind='count');\n",
        "plt.xticks(rotation=90);"
      ],
      "metadata": {
        "id": "selOJ4tylT1Q"
      },
      "execution_count": null,
      "outputs": []
    },
    {
      "cell_type": "code",
      "source": [
        "# what is the relationship between\n",
        "sns.catplot(data=application_train,x='CODE_GENDER',hue='TARGET',kind='count');\n",
        "plt.xticks(rotation=90);"
      ],
      "metadata": {
        "id": "GRi9-4wclVgz"
      },
      "execution_count": null,
      "outputs": []
    },
    {
      "cell_type": "code",
      "source": [
        "# Show target distribution\n",
        "sns.set_style('darkgrid')\n",
        "print(application_train.TARGET.value_counts())\n",
        "application_train.TARGET.plot.hist(color='green').set_xlabel('Target value: 0 or 1');"
      ],
      "metadata": {
        "id": "2ric10VolbAh"
      },
      "execution_count": null,
      "outputs": []
    },
    {
      "cell_type": "code",
      "source": [
        "# housing status of cilent\n",
        "sns.catplot(data=application_train,x='NAME_HOUSING_TYPE',hue='TARGET',kind='count');\n",
        "plt.xticks(rotation=90);"
      ],
      "metadata": {
        "id": "yIx6hxH5ljrx"
      },
      "execution_count": null,
      "outputs": []
    },
    {
      "cell_type": "code",
      "source": [
        "paid = application_train[application_train.TARGET==0][application_train.NAME_FAMILY_STATUS!='Married']\n",
        "sns.catplot(data=paid,x='NAME_FAMILY_STATUS',hue='TARGET', kind='count');\n",
        "plt.xticks(rotation=90);\n",
        "plt.title('single client with paid loan');"
      ],
      "metadata": {
        "id": "XtHHsiKEl3D9"
      },
      "execution_count": null,
      "outputs": []
    },
    {
      "cell_type": "code",
      "source": [
        "paid = application_train[application_train.TARGET==1][application_train.NAME_FAMILY_STATUS!='Married']\n",
        "sns.catplot(data=paid,x='NAME_FAMILY_STATUS',hue='TARGET', kind='count');\n",
        "plt.xticks(rotation=90);\n",
        "plt.title('single client with Defaulted loan');"
      ],
      "metadata": {
        "id": "XxdiyuCYl-vX"
      },
      "execution_count": null,
      "outputs": []
    },
    {
      "cell_type": "code",
      "source": [
        "# car owners with defaulted loans\n",
        "sns.countplot(application_train['TARGET'], hue=application_train['FLAG_OWN_CAR'])"
      ],
      "metadata": {
        "id": "jnuWPoREmDw5"
      },
      "execution_count": null,
      "outputs": []
    },
    {
      "cell_type": "code",
      "source": [
        "# customer load status base on number of childern\n",
        "sns.countplot(application_train['CNT_CHILDREN'], hue=application_train['TARGET'])"
      ],
      "metadata": {
        "id": "SZb0Cjk8mHSr"
      },
      "execution_count": null,
      "outputs": []
    },
    {
      "cell_type": "code",
      "source": [],
      "metadata": {
        "id": "1pDHrbmhmOXW"
      },
      "execution_count": null,
      "outputs": []
    }
  ]
}